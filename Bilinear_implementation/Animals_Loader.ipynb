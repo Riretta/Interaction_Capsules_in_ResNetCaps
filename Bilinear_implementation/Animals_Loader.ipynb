{
 "cells": [
  {
   "cell_type": "code",
   "execution_count": null,
   "metadata": {},
   "outputs": [],
   "source": [
    "from __future__ import print_function\n",
    "import pandas as pd\n",
    "import numpy as np\n",
    "import csv\n",
    "import os\n",
    "import torch\n",
    "\n",
    "import matplotlib\n",
    "import matplotlib.pyplot as plt\n",
    "import random\n",
    "\n",
    "from PIL import Image\n",
    "from skimage import io\n",
    "from torchvision import datasets, transforms\n",
    "from torch.utils.data import Dataset, DataLoader"
   ]
  },
  {
   "cell_type": "code",
   "execution_count": null,
   "metadata": {},
   "outputs": [],
   "source": [
    "class Animals_dataset(Dataset):\n",
    "    \n",
    "    \n",
    "    def __init__(self, dat_folder,train = True, transform = None):   \n",
    "        self.root_dir = os.path.dirname(dat_folder)  \n",
    "        self.dataset_dir = dat_folder\n",
    "        self.classes = os.listdir(dat_folder)\n",
    "        \n",
    "        csv_file_train = os.path.join(self.root_dir, \"data_Train.csv\")\n",
    "        csv_file_test = os.path.join(self.root_dir, \"data_Test.csv\")    \n",
    "        \n",
    "        if not \"data_Train.csv\" in os.listdir(self.root_dir) or not \"data_Test.csv\" in os.listdir(self.root_dir):\n",
    "        \n",
    "            train_line_list = []\n",
    "            test_line_list = [] \n",
    "\n",
    "            for i,classes in enumerate(self.classes):\n",
    "                folder_class = os.path.join(self.dataset_dir,classes)\n",
    "                filenames = [f for f in os.listdir(folder_class) if os.path.isfile(os.path.join(folder_class, f))]\n",
    "                random.shuffle(filenames)\n",
    "\n",
    "                for j in range(len(filenames)):\n",
    "                    if os.path.isfile(os.path.join(self.dataset_dir,classes,filenames[j])):\n",
    "                        if j < len(filenames)*0.7:\n",
    "                            line = [str(j),\"1\",str(i),classes,os.path.join(self.dataset_dir,classes,filenames[j])]\n",
    "                            train_line_list.append([line])\n",
    "                        else:\n",
    "                            line = [str(j),\"2\",str(i),classes,os.path.join(self.dataset_dir,classes,filenames[j])]\n",
    "                            test_line_list.append([line])\n",
    "\n",
    "            with open(csv_file_train,\"w\") as f:\n",
    "                writer = csv.writer(f,delimiter=',')\n",
    "                writer.writerow([\"counter\",\"set\", \"class\", \"label\",\"location\"])\n",
    "                for lines in train_line_list:\n",
    "                    writer.writerows(lines)\n",
    "\n",
    "            with open(csv_file_test,\"w\") as f:\n",
    "                writer = csv.writer(f,delimiter=',')\n",
    "                writer.writerow([\"counter\",\"set\", \"class\", \"label\",\"location\"])\n",
    "                for lines in test_line_list:\n",
    "                    writer.writerows(lines) \n",
    "        \n",
    "        if train: self.Animals_datafile = pd.read_csv(csv_file_train)\n",
    "        else: self.Animals_datafile = pd.read_csv(csv_file_test)\n",
    "        \n",
    "        self.transform = transform\n",
    "            \n",
    "            \n",
    "    def __len__(self):\n",
    "        return len(self.Animals_datafile)\n",
    "    \n",
    "    def __getitem__(self,idx):\n",
    "        img_name = self.Animals_datafile.iloc[idx,4]\n",
    "        image = self.__loadfile(img_name)\n",
    "        target = self.Animals_datafile.iloc[idx,2]\n",
    "        if self.transform:\n",
    "            image = Image.fromarray(image)\n",
    "            sample = self.transform(image)\n",
    "        else:\n",
    "            sample = image\n",
    "        return (sample,target)\n",
    "    \n",
    "    def __loadfile(self, data_file):\n",
    "        image = io.imread(data_file)\n",
    "        if len(image.shape)<3:\n",
    "            image = np.stack((image,)*3, axis=-1)\n",
    "        return image"
   ]
  },
  {
   "cell_type": "code",
   "execution_count": null,
   "metadata": {},
   "outputs": [],
   "source": [
    "#a =  Animals_dataset(\"/home/rita/JupyterProjects/EYE-SEA/DataSets/Animals_with_Attributes2/JPEGImages\")"
   ]
  },
  {
   "cell_type": "code",
   "execution_count": null,
   "metadata": {},
   "outputs": [],
   "source": []
  }
 ],
 "metadata": {
  "kernelspec": {
   "display_name": "Python 3",
   "language": "python",
   "name": "python3"
  },
  "language_info": {
   "codemirror_mode": {
    "name": "ipython",
    "version": 3
   },
   "file_extension": ".py",
   "mimetype": "text/x-python",
   "name": "python",
   "nbconvert_exporter": "python",
   "pygments_lexer": "ipython3",
   "version": "3.6.7"
  }
 },
 "nbformat": 4,
 "nbformat_minor": 2
}
